{
 "cells": [
  {
   "cell_type": "markdown",
   "metadata": {},
   "source": [
    "## Classifying data using a Support Vector Machine (SVM)\n",
    "\n",
    "Reference : https://github.com/llSourcell/Classifying_Data_Using_a_Support_Vector_Machine/blob/master/support_vector_machine_lesson.ipynb\n",
    "\n",
    "- Built an SVM that wll find the optimal hyperplane that maximizes the margin between 2 toy data classes using Gradient Descent.\n",
    "\n",
    "\n",
    "\n",
    "\n",
    "\n"
   ]
  },
  {
   "cell_type": "code",
   "execution_count": 1,
   "metadata": {
    "scrolled": false
   },
   "outputs": [
    {
     "data": {
      "text/plain": [
       "[<matplotlib.lines.Line2D at 0x10e1e2b70>]"
      ]
     },
     "execution_count": 1,
     "metadata": {},
     "output_type": "execute_result"
    },
    {
     "data": {
      "image/png": "[encoded data removed]",
      "text/plain": [
       "<matplotlib.figure.Figure at 0x10e1e2b00>"
      ]
     },
     "metadata": {},
     "output_type": "display_data"
    }
   ],
   "source": [
    "import numpy as np\n",
    "from matplotlib import pyplot as plt\n",
    "%matplotlib inline\n",
    "\n",
    "######################### \n",
    "# Step 1: Define our data\n",
    "#########################\n",
    "\n",
    "# Input - X's - form [X value, Y value, Bias term]\n",
    "X = np.array([\n",
    "    [-2,4,-1],\n",
    "    [4,1,-1],\n",
    "    [1, 6, -1],\n",
    "    [2, 4, -1],\n",
    "    [6, 2, -1],\n",
    "])\n",
    "\n",
    "# Associated outputs - Y's\n",
    "# 2 classes : (1,-1)\n",
    "# First 2 examples are labeled '-1' and last 3 are labeled '+1'\n",
    "Y = np.array([-1,-1,1,1,1])\n",
    "\n",
    "\n",
    "################################# \n",
    "# Step 2: Plot data on a 2D graph\n",
    "################################# \n",
    "\n",
    "for idx, input in enumerate(X):\n",
    "    if idx<2: # for -ve points\n",
    "        plt.scatter(input[0], input[1], s=120, marker='_', linewidths=20)\n",
    "    else: # for +ve points\n",
    "        plt.scatter(input[0], input[1], s=120, marker='+', linewidths=20)\n",
    "\n",
    "        \n",
    "#############################################################################        \n",
    "# Step 3. Draw a possible hyperplane, which seperates 2 classes ('-' and '+')\n",
    "# Naive guess as of now.\n",
    "############################################################################# \n",
    "plt.plot([-2,6],[6,0.5])"
   ]
  },
  {
   "cell_type": "code",
   "execution_count": null,
   "metadata": {
    "collapsed": true
   },
   "outputs": [],
   "source": []
  },
  {
   "cell_type": "code",
   "execution_count": 2,
   "metadata": {},
   "outputs": [
    {
     "data": {
      "image/png": "[encoded data removed]",
      "text/plain": [
       "<matplotlib.figure.Figure at 0x11866cd68>"
      ]
     },
     "metadata": {},
     "output_type": "display_data"
    }
   ],
   "source": [
    "####################################################################\n",
    "# Step 4. Define stochastic gradient descent to learn the seperating \n",
    "#         hyperplane between both classes\n",
    "####################################################################\n",
    "\n",
    "def svm_sgd(X, Y):\n",
    "  # Initialize SVM weight as sized 3 vector with zeroes.\n",
    "  w = np.zeros(len(X[0]))\n",
    "\n",
    "  # learning rate\n",
    "  learning_rate = 1\n",
    "  # Number of times to iterate\n",
    "  epochs = 100000\n",
    "\n",
    "  errors= [] # maintains misclassification to plot it over the time we learn.\n",
    "\n",
    "  # Training / Gradient Descent part\n",
    "  for epoch in range(1,epochs):\n",
    "    error = 0\n",
    "    for i, x in enumerate(X):\n",
    "        # mis classification\n",
    "        if (Y[i] * np.dot(X[i], w)) < 1:\n",
    "            # wrong classification : Update weights\n",
    "            w = w + learning_rate * ((X[i] * Y[i]) + (-2 / epoch) * w)\n",
    "            error = 1\n",
    "        else:\n",
    "            # right classification : Update weights\n",
    "            w = w + learning_rate * (-2 / epoch * w)\n",
    "    errors.append(error)\n",
    "  \n",
    "  # Plotting the rate of classification errors during training of SVM\n",
    "  plt.plot(errors, '|')\n",
    "  plt.ylim(0.5, 1.5)\n",
    "  # plt.axes().set_yticklabels([])\n",
    "  plt.xlabel('No. of Epochs')\n",
    "  plt.ylabel('Misclassifications')\n",
    "  plt.show()\n",
    "\n",
    "  return w\n",
    "\n",
    "\n",
    "w = svm_sgd(X,Y)"
   ]
  },
  {
   "cell_type": "code",
   "execution_count": 3,
   "metadata": {},
   "outputs": [
    {
     "name": "stdout",
     "output_type": "stream",
     "text": [
      "1.5887611677 3.17458055148 -3.17458055148 1.5887611677\n",
      "1.5887611677 3.17458055148 3.17458055148 -1.5887611677\n"
     ]
    },
    {
     "data": {
      "text/plain": [
       "<matplotlib.quiver.Quiver at 0x118759d30>"
      ]
     },
     "execution_count": 3,
     "metadata": {},
     "output_type": "execute_result"
    },
    {
     "data": {
      "image/png": "[encoded data removed]",
      "text/plain": [
       "<matplotlib.figure.Figure at 0x1186040f0>"
      ]
     },
     "metadata": {},
     "output_type": "display_data"
    }
   ],
   "source": [
    "##########################################################\n",
    "# Step 5. De-draw input points, hyperplane and test points\n",
    "##########################################################\n",
    "\n",
    "for idx, input in enumerate(X):\n",
    "    if idx<2: # for -ve points\n",
    "        plt.scatter(input[0], input[1], s=120, marker='_', linewidths=1)\n",
    "    else: # for +ve points\n",
    "        plt.scatter(input[0], input[1], s=120, marker='+', linewidths=1)\n",
    "\n",
    "# Add our test samples\n",
    "plt.scatter(2,2, s=120, marker=(5, 0), linewidths=1, color='pink')\n",
    "plt.scatter(4,3, s=120, marker=(5, 0), linewidths=1, color='blue')\n",
    "plt.scatter(2,3.5, s=120, marker=(5, 0), linewidths=1, color='blue')\n",
    "\n",
    "# Print the hyperplane calculated by svm_sgd()\n",
    "x2=[w[0],w[1],-w[1],w[0]]\n",
    "x3=[w[0],w[1],w[1],-w[0]]        \n",
    "\n",
    "print (w[0],w[1], -w[1],w[0])\n",
    "print (w[0],w[1], w[1],-w[0])\n",
    "x2x3 =np.array([x2,x3])\n",
    "X,Y,U,V = zip(*x2x3)\n",
    "ax = plt.gca()\n",
    "ax.quiver(X,Y,U,V,scale=1, color='green')"
   ]
  },
  {
   "cell_type": "code",
   "execution_count": null,
   "metadata": {
    "collapsed": true
   },
   "outputs": [],
   "source": []
  }
 ],
 "metadata": {
  "kernelspec": {
   "display_name": "Python 3",
   "language": "python",
   "name": "python3"
  },
  "language_info": {
   "codemirror_mode": {
    "name": "ipython",
    "version": 3
   },
   "file_extension": ".py",
   "mimetype": "text/x-python",
   "name": "python",
   "nbconvert_exporter": "python",
   "pygments_lexer": "ipython3",
   "version": "3.5.2"
  },
  "widgets": {
   "state": {},
   "version": "1.1.2"
  }
 },
 "nbformat": 4,
 "nbformat_minor": 2
}
